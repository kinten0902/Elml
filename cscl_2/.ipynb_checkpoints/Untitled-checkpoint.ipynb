{
 "cells": [
  {
   "cell_type": "code",
   "execution_count": 2,
   "metadata": {},
   "outputs": [],
   "source": [
    "%matplotlib inline\n",
    "import numpy as np\n",
    "import math\n",
    "from openpyxl import Workbook\n",
    "from openpyxl import load_workbook\n",
    "import mojimoji\n",
    "import pylab as pl\n",
    "from IPython import display\n",
    "import numpy as np\n",
    "import glob\n",
    "import re\n",
    "import MeCab\n",
    "from collections import Counter\n",
    "import types"
   ]
  },
  {
   "cell_type": "code",
   "execution_count": 3,
   "metadata": {},
   "outputs": [],
   "source": [
    "files = glob.glob(\"data/excel/data_new.xlsx\")\n",
    "orig_xs, orig_ts, orig_ts2 =[],[],[]\n",
    "total_count = 0\n",
    "linenum = {}\n",
    "for fn in files:\n",
    "    wb = load_workbook(filename = fn, data_only = True)\n",
    "    ws = wb.active\n",
    "    ws_data = np.asarray([x for x in ws.columns]).T[2:]"
   ]
  },
  {
   "cell_type": "code",
   "execution_count": null,
   "metadata": {},
   "outputs": [],
   "source": []
  }
 ],
 "metadata": {
  "kernelspec": {
   "display_name": "Python 3",
   "language": "python",
   "name": "python3"
  },
  "language_info": {
   "codemirror_mode": {
    "name": "ipython",
    "version": 3
   },
   "file_extension": ".py",
   "mimetype": "text/x-python",
   "name": "python",
   "nbconvert_exporter": "python",
   "pygments_lexer": "ipython3",
   "version": "3.6.5"
  }
 },
 "nbformat": 4,
 "nbformat_minor": 2
}
